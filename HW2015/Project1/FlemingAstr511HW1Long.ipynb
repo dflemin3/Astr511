{
 "metadata": {
  "name": "",
  "signature": "sha256:5c5156b619a3f2c11ed699e6debadcfb5b372bf9f4d5fd8e297a209221b62069"
 },
 "nbformat": 3,
 "nbformat_minor": 0,
 "worksheets": [
  {
   "cells": [
    {
     "cell_type": "markdown",
     "metadata": {},
     "source": [
      "#David Fleming\n",
      "#ASTR 511\n",
      "#Term Project 1"
     ]
    },
    {
     "cell_type": "code",
     "collapsed": false,
     "input": [
      "%matplotlib inline\n",
      "#Imports\n",
      "import numpy as np\n",
      "import matplotlib.pylab as plt\n",
      "from astroML.plotting import hist\n",
      "\n",
      "#Typical plot parameters that make for pretty plots\n",
      "plt.rcParams['figure.figsize'] = (10,6)\n",
      "plt.rcParams['font.size'] = 18"
     ],
     "language": "python",
     "metadata": {},
     "outputs": [],
     "prompt_number": 280
    },
    {
     "cell_type": "markdown",
     "metadata": {},
     "source": [
      "#Define functions used to calculate M_r, rho(z)\n",
      "The below functions are used to calculate the parameters Delta M_r, M_0, and the metallicity [Fe/H].  These parameters are then used in an additional function to calculate that absolute r magnitude, M_r.  Also included is a function that given a subset of data to look for, computes the stellar density as a function of distance z.\n",
      "\n",
      "To compute $M_r$, equations A2, A3 and A7 from Ivezic et al. 2008 (ApJ,684,287) are employed.\n",
      "\n",
      "$$A2: \\Delta M_r([Fe/H]) = 4.50-1.11[Fe/H]-0.18[Fe/H]^2$$\n",
      "$$A3: M_r(g-i,[Fe/H]) = M^0_r(g-i) + \\Delta M_r([Fe/H])$$\n",
      "$$A7: M^0_r(g-i)=-5.06+14.32x-12.97x^2+6.127x^3-1.267x^4+0.0967x^5 \\ \\ \\ \\ where \\ \\ x = g-i $$\n",
      "\n",
      "From Bond et al. 2010 (ApJ, 716, 1), the metallicty [Fe/H] is given by: \n",
      "\n",
      "$$[Fe/H] = A + Bx + Cy + Dxy + Ex^2 + F y^2 + Gx^2y + Hxy^2 + Ix^3 + Jy^3$$ \n",
      "\n",
      "where x = (u \u2212 g) and y = (g \u2212 r).  The best-fit parameters (A\u2013J) = (\u221213.13, 14.09,\n",
      "28.04, \u22125.51, \u22125.90, \u221258.68, 9.14, \u221220.61, 0.0, 58.20).  Note: this expression if valid only for the case when\n",
      "g \u2212 r < 0.6.  For g - r >= 0.6, [Fe/H] = \u22120.6\n",
      "\n",
      "These equations are all given in the functions defined below and used to calculate various parameters of interest such as as the r band absolute magnitude $M_r$."
     ]
    },
    {
     "cell_type": "code",
     "collapsed": false,
     "input": [
      "#Define functions to use later\n",
      "def calcDeltaMR(metals):\n",
      "    \"\"\"\n",
      "    Function takes in Fe/H metalicity, outputs Delta_M_r using A2 from Ivezic+2008\n",
      "    \"\"\"\n",
      "    return (4.50-1.11*(metals)-0.18*(metals*metals))\n",
      "#end function\n",
      "\n",
      "def calcMr(M_0,deltaMr):\n",
      "    \"\"\"\n",
      "    Function takes Fe/H metalicity, g-i color, and M_0, computes absolute r magnitude Mr\n",
      "    \"\"\"\n",
      "    return (M_0 + deltaMr)\n",
      "#end function\n",
      "\n",
      "def calcM_0(gi):\n",
      "    \"\"\"\n",
      "    Function takes g-i color, calculates M_0 parameters\n",
      "    \"\"\"\n",
      "    return (-5.06 + 14.32*gi - 12.97*(gi*gi) + 6.127*(gi*gi*gi) - 1.267*(gi*gi*gi*gi) + 0.0967*(gi*gi*gi*gi*gi))\n",
      "\n",
      "def calcFeH(x,y):\n",
      "    \"\"\"\n",
      "    Function computes Fe/H metalicity given x (u-g) and y (g-r) colors and index i\n",
      "    Can't accept arrays since need to do logical comparison to see if it's in valid range\n",
      "    \"\"\"\n",
      "    A = -13.13\n",
      "    B = 14.09\n",
      "    C = 28.04\n",
      "    D = -5.51\n",
      "    E = -5.90\n",
      "    F = -58.68\n",
      "    G = 9.14\n",
      "    H = -20.61\n",
      "    I = 0.0\n",
      "    J = 58.20\n",
      "    \n",
      "    #Valid only for g-r < 0.6\n",
      "    if(y >= 0.6):\n",
      "        return -0.6\n",
      "    else:\n",
      "        return (A + B*x + C*y + D*x*y + E*x*x + F*y*y + G*x*x*y + H*x*y*y + I*x*x*x + J*y*y*y)\n",
      "    \n",
      "def calcRho(zArray,mask,bins=100,omega=314):\n",
      "    \"\"\"\n",
      "    Given a data mask, the array of stellar distances, bin constant and solid angle,\n",
      "    return density and distance arrays for plotting\n",
      "    \n",
      "    Input:\n",
      "    zArray: Array of stellar distances Z\n",
      "    mask: Mask for properly selecting data of interest\n",
      "    bins: Number of bins for histogram\n",
      "    omega: solid angle\n",
      "    \n",
      "    Output:\n",
      "    rho: rho(Z) array of density as a function of distance\n",
      "    zBins: array of distances for plotting\n",
      "    \"\"\"\n",
      "    #Selects distance bins that fit the color criteria\n",
      "    zPrime = zArray[mask]\n",
      "    \n",
      "    #Bin stars appropriately\n",
      "    N, edges = np.histogram(zPrime,bins)\n",
      "    zBins = (edges[1:] + edges[:-1])/2.0\n",
      "    \n",
      "    binSize = (np.power(edges[1:],3.0) - np.power(edges[:-1],3.0))/np.power(1000.0,3)\n",
      "    \n",
      "    #Convert zBins from pc to kpc\n",
      "    zBins = zBins/1000.0\n",
      "    \n",
      "    #Compute volume of each bins\n",
      "    scale = np.pi/(180.0)\n",
      "    V = omega*scale*binSize/3.0\n",
      "    \n",
      "    #Compute density\n",
      "    rho = N/V\n",
      "    \n",
      "    return rho, zBins"
     ],
     "language": "python",
     "metadata": {},
     "outputs": [],
     "prompt_number": 281
    },
    {
     "cell_type": "markdown",
     "metadata": {},
     "source": [
      "Define a function to bin data depending on what magnitude band you're considering and what subset of data you wish to study.  The results of this function can be used to make a differential magnitude distribution for a given band.  The volume of each bin is given by $V = \\Omega(r^3_2 - r^3_1)/3$ where $\\Omega = sin(\\theta)d \\theta d \\phi$ is the solid angle."
     ]
    },
    {
     "cell_type": "code",
     "collapsed": false,
     "input": [
      "#Define a function to histrogram stars by magnitude (for question 4)\n",
      "def magBin(data=None,band=6,mask=None,size=0.1):\n",
      "    \"\"\"\n",
      "    Given the data object, a mask to select a subset of the data, the magnitude key word and bin size, \n",
      "    return arrays to produce a scatter plot of the differential (x) band magnitude distribution for that sample.\n",
      "    \n",
      "    Inputs:\n",
      "    Data: data array for all objects.  Assumes it's of the form data[number of objects,band]\n",
      "    band: which band to select for.  Must be as an int flag like R=6 for the r band given below\n",
      "    mask: allows to select for a certain data subset from the Data array (optional)\n",
      "    size: Width of bins\n",
      "    \n",
      "    Outputs:\n",
      "    values, rBins to produce a plot of the form scatter(rBins,values)\n",
      "    \"\"\"\n",
      "    #Create subset if mask given\n",
      "    if mask != None:\n",
      "        subset = data[mask]\n",
      "    else:\n",
      "        subset = data\n",
      "    \n",
      "    #Select correct band\n",
      "    subset = subset[:,band]\n",
      "        \n",
      "    #Compute number of bins for histogram\n",
      "    bins = (subset.max()-subset.min())/size\n",
      "    \n",
      "    #Create histogram\n",
      "    vals, edges = np.histogram(subset,bins)\n",
      "    rBins = (edges[1:] + edges[:-1])/2.0\n",
      "    \n",
      "    #Return results\n",
      "    return rBins, vals"
     ],
     "language": "python",
     "metadata": {},
     "outputs": [],
     "prompt_number": 282
    },
    {
     "cell_type": "markdown",
     "metadata": {},
     "source": [
      "#Load, process data.\n",
      "Assumes the data file \"Astr511HW1data.dat\" is in the current working directory."
     ]
    },
    {
     "cell_type": "code",
     "collapsed": false,
     "input": [
      "#Read in data as numpy array for manipulation\n",
      "handle = \"Astr511HW1data.dat\"\n",
      "data = np.genfromtxt(handle,skip_header=1)"
     ],
     "language": "python",
     "metadata": {},
     "outputs": [],
     "prompt_number": 283
    },
    {
     "cell_type": "code",
     "collapsed": false,
     "input": [
      "#Define index flags for easy data access of the form data[row#,flag]\n",
      "RA = 0\n",
      "DEC = 1\n",
      "RUN = 2\n",
      "AR = 3\n",
      "U = 4\n",
      "G = 5\n",
      "R = 6\n",
      "I = 7\n",
      "Z = 8\n",
      "UERR = 9\n",
      "GERR = 10\n",
      "RERR = 11\n",
      "IERR = 12\n",
      "ZERR = 13\n",
      "PML = 14\n",
      "PMB = 15\n",
      "PMERR = 16"
     ],
     "language": "python",
     "metadata": {},
     "outputs": [],
     "prompt_number": 284
    },
    {
     "cell_type": "code",
     "collapsed": false,
     "input": [
      "#Compute M_r(g-i,[Fe/H]) for each star using eqns defined above\n",
      "\n",
      "#Compute metallicity array\n",
      "fehArray = np.zeros(len(data))\n",
      "\n",
      "for i in range(len(data)):\n",
      "    fehArray[i] = calcFeH(data[i,U] - data[i,G],data[i,G] - data[i,R])\n",
      "M_r = calcMr(calcM_0(data[:,G] - data[:,I]),calcDeltaMR(fehArray))"
     ],
     "language": "python",
     "metadata": {},
     "outputs": [],
     "prompt_number": 285
    },
    {
     "cell_type": "markdown",
     "metadata": {},
     "source": [
      "#Question 1: For stars with 0.2 < g \u2212 r < 0.4, plot ln(\u03c1) vs. Z, where \u03c1 is the stellar number density in a given bin and Z is height from the galactic plane."
     ]
    },
    {
     "cell_type": "code",
     "collapsed": false,
     "input": [
      "#Assume Z ~ D where D is found from r - Mr = 5*log(D/(10pc)) \n",
      "\n",
      "#Compute D=Z (in pc)\n",
      "zArray = (10.0)*np.power(10.0,((data[:,R]-M_r)/5.0))"
     ],
     "language": "python",
     "metadata": {},
     "outputs": [],
     "prompt_number": 286
    },
    {
     "cell_type": "code",
     "collapsed": false,
     "input": [
      "#Find subset of stars where 0.2 < g-r < 0.4\n",
      "mask = np.logical_and(0.2 < (data[:,G] - data[:,R]),(data[:,G] - data[:,R]) < 0.4)\n",
      "\n",
      "#Given this subset, compute appropriate density and corresponding distance bins\n",
      "rho, zBins = calcRho(zArray,mask)"
     ],
     "language": "python",
     "metadata": {},
     "outputs": [],
     "prompt_number": 287
    },
    {
     "cell_type": "code",
     "collapsed": false,
     "input": [
      "#Produce plot\n",
      "plt.plot(zBins,np.log(rho),linestyle='steps-mid',linewidth=2)\n",
      "plt.xlim([0,60])\n",
      "plt.ylim([-11,8])\n",
      "plt.xlabel(\"$Z \\ (kpc)$\")\n",
      "plt.ylabel(r\"$log(\\rho(Z))$\")\n",
      "plt.title(r\"$log(\\rho(Z)) \\ vs. \\ Z \\ for \\  0.2 \\ < \\ g-r \\ < \\ 0.4$\")\n",
      "plt.axvline(x=4, ymin=0, ymax = 1000000, linewidth=2, color='k',ls='--')\n",
      "\n",
      "plt.show()"
     ],
     "language": "python",
     "metadata": {},
     "outputs": [
      {
       "metadata": {},
       "output_type": "display_data",
       "png": "[encoded data removed]",
       "text": [
        "<matplotlib.figure.Figure at 0x12edc3350>"
       ]
      }
     ],
     "prompt_number": 288
    },
    {
     "cell_type": "markdown",
     "metadata": {},
     "source": [
      "#What is the Z range where you believe the results, and why?\n",
      "This figure, when compared to Fig. 5 of Juric et al 2008, demonstrates that the galaxy's stellar number density profile is a composite of two power law components.  The inner power law which runs from Z = 0 to Z ~ 4 kpc (dashed black line) corresponds to the galactic disk while the power law component for Z > 4 kpc corresponds to the galactic halo (Juric 2008, Fig. 5 caption).  Given this information, one would imagine that the Z range where the results become tenuous would be in the far out galactic halo since the light from those objects would be faint due to the distance it has to travel and the intervening media extincting it.  In order to calculate the Z range where one would believe the results, one can make the following argument.  If one assumes that halo stars have some $M_r$ distribution with some mean value and standard deviation and that the spectroscopic data for those stars is accurate, the mean $M_r$ and corresponding standard deviation for the halo population can be calcuated given $g-i$ and $[Fe/H]$ using the formulas above.  With these values, the distance Z can then be computed.  The limiting Z could then be estimated by the median Z plus one standard deviation.\n",
      "\n",
      "Note that $M_r$ is a function of the metallicity $[Fe/H]$ and the $g-i$ color.  After computing $M_r$, one can derive Z from $r \u2212 M_r = 5 \u2217 log (D/(10pc))$ under the approximation that Z ~ D.  First, one must calculate the median g-i color, the metallicity and their corresponding standard deviations for 0.2 < g-r < 0.4 stars defined above.\n",
      "\n",
      "Note: Instead of the mean values for the above quantities, the median values are chosen in order to attempt to remove the effects of outliers."
     ]
    },
    {
     "cell_type": "code",
     "collapsed": false,
     "input": [
      "#Compute the median [Fe/H] of the Z > 4 kpc population stars\n",
      "mask = np.logical_and(zArray > 4000,np.logical_and(0.2 < (data[:,G] - data[:,R]),(data[:,G] - data[:,R]) < 0.4))\n",
      "\n",
      "#Select correct data, find median\n",
      "haloMetals = fehArray[mask]\n",
      "haloMetals_median = np.median(haloMetals)\n",
      "haloMetals_std = np.std(haloMetals)\n",
      "print haloMetals_median, haloMetals_std"
     ],
     "language": "python",
     "metadata": {},
     "outputs": [
      {
       "output_type": "stream",
       "stream": "stdout",
       "text": [
        "-1.45888128 0.639671308288\n"
       ]
      }
     ],
     "prompt_number": 289
    },
    {
     "cell_type": "markdown",
     "metadata": {},
     "source": [
      "With the median halo metallicity given above, we simply need the median g-i color of this sample before we can calculate $M_r$ and hence the distance Z.  Similar to the above cell, I'll compute the median g-i color for the given sample and then use that to calculate $M_r$ and the corresponding distance Z."
     ]
    },
    {
     "cell_type": "code",
     "collapsed": false,
     "input": [
      "#Compute median g-i color for Z > 4 kpc population stars where 0.2 < g-r < 0.4\n",
      "\n",
      "#Compute g-i for correct stars\n",
      "gi_Z = data[:,G] - data[:,I]\n",
      "gi_Z = gi_Z[mask]\n",
      "\n",
      "#Find median\n",
      "gi_median = np.median(gi_Z)\n",
      "gi_std = np.std(gi_Z)\n",
      "print gi_median, gi_std"
     ],
     "language": "python",
     "metadata": {},
     "outputs": [
      {
       "output_type": "stream",
       "stream": "stdout",
       "text": [
        "0.4 0.0837318935694\n"
       ]
      }
     ],
     "prompt_number": 290
    },
    {
     "cell_type": "markdown",
     "metadata": {},
     "source": [
      "Using these values, we can now compute $M_r$ and then Z in kpc.  To calcualte distance via the distance modulus, we need one final value: the median r band magnitude.  The calculations are given below."
     ]
    },
    {
     "cell_type": "code",
     "collapsed": false,
     "input": [
      "#Compute median r band magnitude in sample defined above\n",
      "r_Z = data[:,R]\n",
      "r_Z = r_Z[mask]\n",
      "r_median = np.median(r_Z)\n",
      "r_std = np.std(r_Z)\n",
      "\n",
      "#Compute absolute magnitude then distance\n",
      "M_r_halo = calcMr(calcM_0(gi_median),calcDeltaMR(haloMetals_median))\n",
      "M_r_halo_std = calcMr(calcM_0(gi_std),calcDeltaMR(haloMetals_std))\n",
      "distance = (10.0)*np.power(10.0,((r_median-M_r_halo)/5.0))/(1000.0)\n",
      "distance_std = (10.0)*np.power(10.0,((r_std-M_r_halo_std)/5.0))/(1000.0)\n",
      "\n",
      "print distance + distance_std"
     ],
     "language": "python",
     "metadata": {},
     "outputs": [
      {
       "output_type": "stream",
       "stream": "stdout",
       "text": [
        "10.2982378013\n"
       ]
      }
     ],
     "prompt_number": 291
    },
    {
     "cell_type": "markdown",
     "metadata": {},
     "source": [
      "#Question 2: Add ln(\u03c1) vs. Z for stars with 0.4 < g \u2212 r < 0.6, 0.6 < g \u2212 r < 0.8, and 0.8 < g \u2212 r < 1.0 to the previous plot."
     ]
    },
    {
     "cell_type": "code",
     "collapsed": false,
     "input": [
      "#Derive three subsets of stars for which 0.4<g\u2212r<0.6, 0.6<g\u2212r<0.8, and 0.8 < g \u2212 r < 1.0 holds\n",
      "\n",
      "#Get subset of stars for 0.4<g-r<0.6\n",
      "mask = np.logical_and(0.4 < (data[:,G] - data[:,R]),(data[:,G] - data[:,R]) < 0.6)\n",
      "rho0, zBins0 = calcRho(zArray,mask)\n",
      "\n",
      "#Get subset of stars for 0.6<g-r<0.8\n",
      "mask = np.logical_and(0.6 < (data[:,G] - data[:,R]),(data[:,G] - data[:,R]) < 0.8)\n",
      "rho1, zBins1 = calcRho(zArray,mask)\n",
      "\n",
      "#Get subset of stars for 0.8<g-r<1\n",
      "mask = np.logical_and(0.8 < (data[:,G] - data[:,R]),(data[:,G] - data[:,R]) < 1)\n",
      "rho2, zBins2 = calcRho(zArray,mask)"
     ],
     "language": "python",
     "metadata": {},
     "outputs": [],
     "prompt_number": 292
    },
    {
     "cell_type": "code",
     "collapsed": false,
     "input": [
      "#Plot various g-r subsets together for comparisons\n",
      "plt.plot(zBins,np.log(rho),c='b',linestyle='steps-mid',linewidth=2,label='$0.2<g-r<0.4$')\n",
      "plt.plot(zBins0,np.log(rho0),c='c',linestyle='steps-mid',linewidth=2,label='$0.4<g-r<0.6$')\n",
      "plt.plot(zBins1,np.log(rho1),c='g',linestyle='steps-mid',linewidth=2,label='$0.6<g-r<0.8$')\n",
      "plt.plot(zBins2,np.log(rho2),c='r',linestyle='steps-mid',linewidth=2,label='$0.8<g-r<1$')\n",
      "\n",
      "plt.xlim([0,60])\n",
      "#plt.ylim([-25,-4])\n",
      "plt.xlabel(\"$Z \\ (kpc)$\")\n",
      "plt.ylabel(r\"$log(\\rho(Z))$\")\n",
      "plt.title(r\"$log(\\rho(Z)) \\ vs. \\ Z$\")\n",
      "plt.legend(bbox_to_anchor=(1.05, 1), loc=2, borderaxespad=0.,markerscale=5)\n",
      "plt.show()"
     ],
     "language": "python",
     "metadata": {},
     "outputs": [
      {
       "metadata": {},
       "output_type": "display_data",
       "png": "[encoded data removed]",
       "text": [
        "<matplotlib.figure.Figure at 0x12b601090>"
       ]
      }
     ],
     "prompt_number": 293
    },
    {
     "cell_type": "markdown",
     "metadata": {},
     "source": [
      "#Discuss the differences compared to the 0.2 < g \u2212 r < 0.4 subsample."
     ]
    },
    {
     "cell_type": "markdown",
     "metadata": {},
     "source": [
      "As described above, each curve consists of two power law components, one for the disk for Z < 4 kpc and one for the halo beyond that point.  The disk power law component for each color bin all seem to be roughly the same implying the stellar number density in the disk has a weak dependence on g-r color at best.  In the halo as color increases from 0.2 < g-r < 0.4 to 0.8 < g-r < 1, however each curve's halo power law component becomes steeper indicating that stellar number density drops dramatically with increasing color.\n",
      "\n",
      "The physical nature of this stems from the g-r color.  A large g-r color indicates that the population consists of redder, older stars relative to neighboring bins.  Therefore the steeper the halo power law component, the redder and likely older the population.  From this, one may conclude that since on average red, old stars are dimmer and since red light suffers from ISM extinction more than bluer light, redder populations would be more difficult to detect as one goes out to higher Z, explaining the steeper power laws we see above."
     ]
    },
    {
     "cell_type": "markdown",
     "metadata": {},
     "source": [
      "#Why do we expect larger systematic errors for 0.8 < g \u2212 r < 1.0 than for the adjacent bin with 0.4 < g \u2212 r < 0.6?"
     ]
    },
    {
     "cell_type": "markdown",
     "metadata": {},
     "source": [
      "We expect larger systematic errors for 0.8 < g-r < 1.0 than for the adjacent 0.4 < g-r < 0.6 bin because as discussed above, the former bin consists generally of redder, older stars.  Since old, red stars tend to be dimmer than their blue counterparts and due to ISM extinction more strongly attenuating red light, 0.8 < g-r < 1.0 stars will be much more difficult to detect and suffer from selection bias.  This effect can be seen in the steeper halo power law component as g-r color increases."
     ]
    },
    {
     "cell_type": "markdown",
     "metadata": {},
     "source": [
      "#Question 3: For subsample with 0.2 < g \u2212 r < 0.4, separate stars into low-metallicity sample, [Fe/H] < \u22121.0, and high-metallicity sample, [Fe/H] > \u22121.0. Compare their ln(\u03c1) vs. Z curves."
     ]
    },
    {
     "cell_type": "code",
     "collapsed": false,
     "input": [
      "#Compute subsets for low-metallicity sample, [Fe/H] < \u22121.0, and high-metallicity sample, [Fe/H] > \u22121.0\n",
      "# of the subset 0.2 < g \u2212 r < 0.4 \n",
      "\n",
      "#Find where the metalicity inequalities are satisfied\n",
      "low = (fehArray < -1.0)\n",
      "high = (fehArray >= -1.0)\n",
      "\n",
      "#Now create subsets where all requirements are satistfied\n",
      "lowMask = np.logical_and(np.logical_and(0.2 < (data[:,G] - data[:,R]),(data[:,G] - data[:,R]) < 0.4),low)\n",
      "highMask = np.logical_and(np.logical_and(0.2 < (data[:,G] - data[:,R]),(data[:,G] - data[:,R]) < 0.4),high)\n",
      "\n",
      "#Create density, distance arrays for plotting\n",
      "rhoL, zBinsL = calcRho(zArray,lowMask)\n",
      "rhoH, zBinsH = calcRho(zArray,highMask)"
     ],
     "language": "python",
     "metadata": {},
     "outputs": [],
     "prompt_number": 294
    },
    {
     "cell_type": "code",
     "collapsed": false,
     "input": [
      "#Plot low,high metallicity data sets vs each other\n",
      "#fig = plt.figure(figsize=(1, 1))\n",
      "#ax = fig.add_subplot(111)\n",
      "\n",
      "plt.plot(zBinsL,np.log(rhoL),c='b',linestyle='steps-mid',label=\"$Low \\ Metallicity$\")\n",
      "plt.plot(zBinsH,np.log(rhoH),c='r',linestyle='steps-mid',label=\"$High \\ Metallicity$\")\n",
      "\n",
      "#hist(np.log(rhoL), bins='knuth', ax=ax,histtype='stepfilled')\n",
      "\n",
      "plt.xlim([0,60])\n",
      "#plt.ylim([-12,7])\n",
      "plt.xlabel(\"$Z \\ (kpc)$\")\n",
      "plt.ylabel(r\"$log(\\rho (Z))$\")\n",
      "plt.title(r'$log(\\rho (Z)) \\ vs. \\ Z \\ for \\ 0.2 \\ < \\ g-r \\ <0.4$')\n",
      "plt.legend(markerscale=3)\n",
      "plt.show()"
     ],
     "language": "python",
     "metadata": {},
     "outputs": [
      {
       "metadata": {},
       "output_type": "display_data",
       "png": "[encoded data removed]",
       "text": [
        "<matplotlib.figure.Figure at 0x12c89e290>"
       ]
      }
     ],
     "prompt_number": 295
    },
    {
     "cell_type": "markdown",
     "metadata": {},
     "source": [
      "#Compare their ln(\u03c1) vs. Z curves. What do you conclude?"
     ]
    },
    {
     "cell_type": "markdown",
     "metadata": {},
     "source": [
      "For very low Z, around Z < 1 kpc, the high metallicity population, given by the red curve, has the higher number density.  This portion likely corresponds to the high metallicity of young stars in the place of the disk (low Z).  Beyond Z ~ 1 kpc as one creeps out from the disk into the halo, the low metallicity population, given in blue, dominates indicating a metal-poor population halo stars.  At about Z ~ 20 kpc, the two populations have about the same densities.  Beyond this point for large Z > 20 kpc, the high metallicity population dominates."
     ]
    },
    {
     "cell_type": "markdown",
     "metadata": {},
     "source": [
      "#Question 4: Plot the differential r band distribution for the low and high metallicity samples."
     ]
    },
    {
     "cell_type": "markdown",
     "metadata": {},
     "source": [
      "For the low metallicity and high metallicity subsets defined above, plot the differential r band distribution.  As a reminded, the sample considered is all stars where 0.2 < g-r < 0.4 is satisfied.  Low metallicity is defined as [Fe/H] < -1 while high metallicity is [Fe/H] >= -1."
     ]
    },
    {
     "cell_type": "code",
     "collapsed": false,
     "input": [
      "#Use lowMask, highMask again to select the data for 0.2 < g - r < 0.4 where [Fe/H] < -1.0 or > 1.0, bin data by in 0.1 mag \n",
      "#sized r bins.\n",
      "#Compute data to plot for differential r band measurements\n",
      "lowX, lowY = magBin(data=data,band=R,mask=lowMask,size=0.1)\n",
      "highX, highY = magBin(data=data,band=R,mask=highMask,size=0.1)\n",
      "\n",
      "#Plot data\n",
      "plt.plot(lowX,lowY,c='b',linestyle='steps-mid',label=\"$Low \\ Metallicity$\")\n",
      "plt.plot(highX,highY,c='r',linestyle='steps-mid',label=\"$High \\ Metallicity$\")\n",
      "\n",
      "#Style Plot\n",
      "plt.xlim([14,21.0])\n",
      "plt.xlabel(\"$r-band \\ Magnitude$\")\n",
      "plt.ylabel(r\"$Counts$\")\n",
      "#plt.semilogy()\n",
      "plt.title(r'$Differential \\ r \\ Band \\ Distribution \\ for \\ 0.2 \\ < \\ g-r \\ <0.4$',y=1.02)\n",
      "plt.legend(bbox_to_anchor=(1.05, 1), loc=2, borderaxespad=0.,markerscale=5)\n",
      "plt.show()"
     ],
     "language": "python",
     "metadata": {},
     "outputs": [
      {
       "metadata": {},
       "output_type": "display_data",
       "png": "[encoded data removed]",
       "text": [
        "<matplotlib.figure.Figure at 0x12b7c6950>"
       ]
      }
     ],
     "prompt_number": 296
    },
    {
     "cell_type": "markdown",
     "metadata": {},
     "source": [
      "#Conclusions and the functional form for the curves.\n",
      "\n",
      "high metallicity disk, low metallicity halo, also high metallicity bump in halo\n",
      "\n",
      "For low r magnitudes, there are more high metallicity objects, given by the red curve, relative to the number of low metallicity objects, given by the blue curve perhaps corresponding to disk stars.  Past r ~ 16.5, the number of low metallicty objects dominate, perhaps corresponding to halo stars.\n",
      "\n",
      "If one were to fit the curves, one would first notice that the low metallicity curve appears to rise exponentially up until a peak at around r = 20.  Beyond this point, the curve decays with a different exponential rate.  The data may seem Gaussian, but it is unclear whether sufficient symmetry about the peak exists.  It is probably more likely that the low metallicity curve exponentially grows and then decays with some sharp cut off.  However, this inference is based soley on data from r = 14 to r = 21.  On the other hand, the high metallicty population appears to be a bimodal distribution with maxima at r ~ 16 and one beyond r = 21.  As for the low metallicity population, being able to see data beyond r = 21 would allow one to best characterize the distribution, but it seems likely that the bimodal description is most accurate.  These two high metallicity peaks likely correspond to the high metallicity dominant regions described above in Question 3."
     ]
    },
    {
     "cell_type": "markdown",
     "metadata": {},
     "source": [
      "#Question 5: What should be the faint r band limit for a survey to be able to map the ln(\u03c1) vs. Z profile out to 100 kpc using main-sequence stars?"
     ]
    },
    {
     "cell_type": "markdown",
     "metadata": {},
     "source": [
      "At distances of 100 kpc, the distance modulus is 20.  If we can determine roughly what $M_r$ is, then we can infer r given that the distance modulus is $r-M_r$.  To calculate $M_r$, we can assume that stars at large Z out in the halo will have roughly the same properties in general as other halo stars where above the halo was defined as the power law region for Z > 4 kpc.  In order to compensate for the different $M_r$ for the varying g-r color bins, one can compute the median $M_r$ for each color bin and compute a weighted average given the number of stars in each bin.  Using this, we can then derive an estimate for r."
     ]
    },
    {
     "cell_type": "code",
     "collapsed": false,
     "input": [
      "#Derive metallicities\n",
      "mask = np.logical_and(zArray > 4000,np.logical_and(0.2 < (data[:,G] - data[:,R]),(data[:,G] - data[:,R]) < 0.4))\n",
      "mask0 = np.logical_and(zArray > 4000,np.logical_and(0.4 < (data[:,G] - data[:,R]),(data[:,G] - data[:,R]) < 0.6))\n",
      "mask1 = np.logical_and(zArray > 4000,np.logical_and(0.6 < (data[:,G] - data[:,R]),(data[:,G] - data[:,R]) < 0.8))\n",
      "mask2 = np.logical_and(zArray > 4000,np.logical_and(0.8 < (data[:,G] - data[:,R]),(data[:,G] - data[:,R]) < 1.0))\n",
      "\n",
      "#Select correct data, find median metallicity\n",
      "hm = fehArray[mask]\n",
      "hmMedian = np.median(hm)\n",
      "hm0 = fehArray[mask0]\n",
      "hmMedian0 = np.median(hm0)\n",
      "hm1 = fehArray[mask1]\n",
      "hmMedian1 = np.median(hm1)\n",
      "hm2 = fehArray[mask2]\n",
      "hmMedian2 = np.median(hm2)\n",
      "\n",
      "#Compute g-i for correct stars\n",
      "giH = data[:,G] - data[:,I]\n",
      "gi = giH[mask]\n",
      "gi0 = giH[mask0]\n",
      "gi1 = giH[mask1]\n",
      "gi2 = giH[mask2]\n",
      "\n",
      "#Find median\n",
      "gi_median = np.median(gi)\n",
      "gi_median0 = np.median(gi0)\n",
      "gi_median1 = np.median(gi1)\n",
      "gi_median2 = np.median(gi2)\n",
      "\n",
      "#Compute absolute magnitude then distance\n",
      "M_rH = calcMr(calcM_0(gi_median),calcDeltaMR(hmMedian))\n",
      "M_rH0 = calcMr(calcM_0(gi_median0),calcDeltaMR(hmMedian0))\n",
      "M_rH1 = calcMr(calcM_0(gi_median1),calcDeltaMR(hmMedian1))\n",
      "M_rH2 = calcMr(calcM_0(gi_median2),calcDeltaMR(hmMedian2))\n",
      "\n",
      "n = (len(hm) + len(hm0) + len(hm1) + len(hm2))\n",
      "M_rRes = (M_rH*(len(hm)/n)) + (M_rH0*(len(hm0)/n)) + (M_rH1*len(hm1)/n) + (M_rH2*len(hm2)/n)\n",
      "print M_rRes\n",
      "\n",
      "#Assume median M_r in halo over all colors, compute, do stuff with distance modulus\n",
      "maskR = zArray > 4000\n",
      "giR = data[:,G] - data[:,I]\n",
      "giR = giR[maskR]\n",
      "gi_median = np.median(giR)\n",
      "fehR = fehArray[maskR]\n",
      "hmMedian = np.median(fehR)\n",
      "M_rGuess = M_rH = calcMr(calcM_0(gi_median),calcDeltaMR(hmMedian))\n",
      "print M_rGuess\n",
      "#take M_rGuess + 20 = r!"
     ],
     "language": "python",
     "metadata": {},
     "outputs": [
      {
       "output_type": "stream",
       "stream": "stdout",
       "text": [
        "1.16390958922\n",
        "5.20489877463\n"
       ]
      }
     ],
     "prompt_number": 310
    },
    {
     "cell_type": "markdown",
     "metadata": {},
     "source": [
      "Given that the estimate for color-averaged $M_r \\approx 1.164$, we get r = $M_r + 20$ or an r magnitude of about $r = 21.2$ which is beyond the r = 21 SDSS limit as expected."
     ]
    },
    {
     "cell_type": "markdown",
     "metadata": {},
     "source": [
      "#For a solid angle of 1 deg2, how many starswith 0.2 < g \u2212 r < 0.4 would you expect with distances between 90 kpc and 100 kpc?\n",
      "For this question, assume $\\rho \\sim \\rho_0r^{-3}$  where $\\rho_0$ is the maximum density.  This distribution is assumed because if one assumes a number of stars N in a spherical region of radius R, the density will go as $\\rho = N/(4\\pi/3 R^3)$ which is $\\rho \\sim \\rho_0r^{-3}$.  Next, compute the volume element $V =\\Omega(r^3_1 - r^3_2)/3$ in kpc as before in the binning function used to make the density plots.  Given the density and volume, use that to estimate number of stars in the 90-100 kpc bin."
     ]
    },
    {
     "cell_type": "code",
     "collapsed": false,
     "input": [
      "#Define rho_0 from density are defined above in Question one\n",
      "rho0  = rho.max()\n",
      "\n",
      "#Compute volume element where omega = 1 degree\n",
      "omega = 1.0\n",
      "binSize = ((100.0*100.0*100.0) - (90.0*90.0*90.0))/3.0\n",
      "scale = np.pi/(180.0)\n",
      "V = omega*scale*binSize\n",
      "\n",
      "#Find the density in the middle of the 90-100 kpc: Z = 95 kpc\n",
      "rho95 = rho0/np.power(95.0,3)\n",
      "\n",
      "#Calculate number of stars for rho = N/V -> N = rho*V\n",
      "print rho95*V"
     ],
     "language": "python",
     "metadata": {},
     "outputs": [
      {
       "output_type": "stream",
       "stream": "stdout",
       "text": [
        "1.44280941516\n"
       ]
      }
     ],
     "prompt_number": 301
    },
    {
     "cell_type": "markdown",
     "metadata": {},
     "source": [
      "On average, one would expect to find about 1-2 stars with color 0.2 < g \u2212 r < 0.4 at distances between 90 kpc and 100\n",
      "kpc."
     ]
    },
    {
     "cell_type": "code",
     "collapsed": false,
     "input": [],
     "language": "python",
     "metadata": {},
     "outputs": []
    }
   ],
   "metadata": {}
  }
 ]
}